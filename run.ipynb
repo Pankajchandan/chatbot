{
 "cells": [
  {
   "cell_type": "code",
   "execution_count": 2,
   "metadata": {
    "collapsed": true
   },
   "outputs": [],
   "source": [
    "import sys"
   ]
  },
  {
   "cell_type": "code",
   "execution_count": 1,
   "metadata": {
    "collapsed": true
   },
   "outputs": [],
   "source": [
    "def train_word2vec(num_features, min_word_count, num_workers, context, downsampling):\n",
    "    from preprocessing import train_word2vec\n",
    "    import pandas as pd\n",
    "    df = pd.read_csv(\"datafile.csv\", header=0, delimiter=\"\\t\", quoting=3)\n",
    "    model = train_word2vec(df, num_features, min_word_count, num_workers, context, downsampling)\n",
    "    return model"
   ]
  },
  {
   "cell_type": "code",
   "execution_count": 1,
   "metadata": {
    "collapsed": true
   },
   "outputs": [],
   "source": [
    "def train_model():\n",
    "    import model"
   ]
  },
  {
   "cell_type": "code",
   "execution_count": 9,
   "metadata": {
    "collapsed": true
   },
   "outputs": [],
   "source": [
    "if __name__ == \"__main__\":\n",
    "    x = 0\n",
    "    if sys.argv[1] == \"word2vec\":\n",
    "        train_word2vec(int(sys.argv[2]), int(sys.argv[3]), int(sys.argv[4]), int(sys.argv[5]), float(sys.argv[6]))\n",
    "    elif sys.argv[1] == \"model\":\n",
    "        train_model()\n",
    "    else:\n",
    "        x = 0"
   ]
  },
  {
   "cell_type": "code",
   "execution_count": 1,
   "metadata": {},
   "outputs": [
    {
     "name": "stderr",
     "output_type": "stream",
     "text": [
      "Using TensorFlow backend.\n"
     ]
    }
   ],
   "source": [
    "from gensim.models import Word2Vec\n",
    "from gensim.models import KeyedVectors"
   ]
  },
  {
   "cell_type": "code",
   "execution_count": 2,
   "metadata": {
    "collapsed": true
   },
   "outputs": [],
   "source": [
    "model = Word2Vec.load(\"trainedWord2vecmodel\")\n",
    "#model = KeyedVectors.load_word2vec_format(\"GoogleNews-vectors-negative300.bin\",binary = 'True')"
   ]
  },
  {
   "cell_type": "code",
   "execution_count": 19,
   "metadata": {},
   "outputs": [
    {
     "data": {
      "text/plain": [
       "[('girl', 0.9981571435928345),\n",
       " ('champ', 0.9971897006034851),\n",
       " ('mate', 0.9969863891601562),\n",
       " ('kiddo', 0.9966842532157898),\n",
       " ('pretti', 0.9966199398040771),\n",
       " ('bot', 0.9964392185211182),\n",
       " ('dude', 0.9959815144538879),\n",
       " ('bud', 0.9958135485649109),\n",
       " ('beauti', 0.9957003593444824),\n",
       " ('buddi', 0.9948815107345581)]"
      ]
     },
     "execution_count": 19,
     "metadata": {},
     "output_type": "execute_result"
    }
   ],
   "source": [
    "model.most_similar(\"boy\")"
   ]
  },
  {
   "cell_type": "code",
   "execution_count": 17,
   "metadata": {},
   "outputs": [
    {
     "data": {
      "text/plain": [
       "183"
      ]
     },
     "execution_count": 17,
     "metadata": {},
     "output_type": "execute_result"
    }
   ],
   "source": [
    "len(model.wv.vocab)"
   ]
  },
  {
   "cell_type": "code",
   "execution_count": 1,
   "metadata": {
    "collapsed": true
   },
   "outputs": [],
   "source": [
    "with open(\"intent.txt\") as file:\n",
    "    intent = file.read().strip().split(\"\\n\")\n",
    "intent_dict = {}\n",
    "for i, word in enumerate(intent):\n",
    "    intent_dict[word] = i"
   ]
  },
  {
   "cell_type": "code",
   "execution_count": 2,
   "metadata": {},
   "outputs": [
    {
     "data": {
      "text/plain": [
       "{'About the class': 7,\n",
       " 'Bye': 14,\n",
       " 'Class': 0,\n",
       " 'Exam details': 9,\n",
       " 'Greetings': 11,\n",
       " 'How are you': 12,\n",
       " 'Lab details': 10,\n",
       " 'Lecture room location': 6,\n",
       " 'Lecture timing': 5,\n",
       " 'None': 15,\n",
       " 'Office hours': 3,\n",
       " 'Office location': 4,\n",
       " \"Professor's name\": 2,\n",
       " 'Project details': 1,\n",
       " 'Syllabus': 8,\n",
       " 'Thank you': 13}"
      ]
     },
     "execution_count": 2,
     "metadata": {},
     "output_type": "execute_result"
    }
   ],
   "source": [
    "intent_dict"
   ]
  },
  {
   "cell_type": "code",
   "execution_count": 39,
   "metadata": {
    "scrolled": true
   },
   "outputs": [
    {
     "name": "stdout",
     "output_type": "stream",
     "text": [
      "['The classes are on Tuesday from 3:00pm to 5:45pm', 'Usually on Tuesday from 3:00pm to 5:45pm', 'It starts at 3pm and is for 2 hours and 45 minutes on Tuesday']\n",
      "Usually on Tuesday from 3:00pm to 5:45pm\n"
     ]
    }
   ],
   "source": [
    "import random\n",
    "file = open(\"response/Lecture timing.txt\",\"r+\")\n",
    "response_list = file.read().strip()\n",
    "response_list = response_list.split(\"\\n\")\n",
    "print(response_list)\n",
    "print(response_list[random.randint(0,len(response_list)-1)])"
   ]
  },
  {
   "cell_type": "code",
   "execution_count": 7,
   "metadata": {},
   "outputs": [
    {
     "data": {
      "text/plain": [
       "['A',\n",
       " 'B',\n",
       " 'C',\n",
       " 'D',\n",
       " 'E',\n",
       " 'F',\n",
       " 'G',\n",
       " 'H',\n",
       " 'I',\n",
       " 'J',\n",
       " 'K',\n",
       " 'L',\n",
       " 'M',\n",
       " 'N',\n",
       " 'O',\n",
       " 'P',\n",
       " 'Q',\n",
       " 'R',\n",
       " 'S',\n",
       " 'T',\n",
       " 'U',\n",
       " 'V',\n",
       " 'W',\n",
       " 'X',\n",
       " 'Y',\n",
       " 'Z']"
      ]
     },
     "execution_count": 7,
     "metadata": {},
     "output_type": "execute_result"
    }
   ],
   "source": [
    "[chr(i) for i in range(ord('A'), ord('Z')+1)]"
   ]
  },
  {
   "cell_type": "code",
   "execution_count": 13,
   "metadata": {},
   "outputs": [
    {
     "data": {
      "text/plain": [
       "65"
      ]
     },
     "execution_count": 13,
     "metadata": {},
     "output_type": "execute_result"
    }
   ],
   "source": [
    "ord('A')"
   ]
  },
  {
   "cell_type": "code",
   "execution_count": 20,
   "metadata": {
    "collapsed": true
   },
   "outputs": [],
   "source": [
    "low = {}\n",
    "for i in range(26):\n",
    "    low[chr(i+97)] = i+1\n",
    "caps = {}\n",
    "for i in range(26):\n",
    "    caps[chr(i+65)] = i+1\n",
    "low_rev = {}\n",
    "for i in range(26):\n",
    "    low_rev[i+1] = chr(i+97)\n",
    "caps_rev={}\n",
    "for i in range(26):\n",
    "    caps_rev[i+1] = chr(i+65)"
   ]
  },
  {
   "cell_type": "code",
   "execution_count": 50,
   "metadata": {
    "collapsed": true
   },
   "outputs": [],
   "source": [
    "# Complete the function below.\n",
    "\n",
    "\n",
    "def decrypt(encrypted_message):\n",
    "    #key = [2,5,1,2,2,0,8]\n",
    "    key = [8,2,5,1,2,2,0]\n",
    "    em = encrypted_message\n",
    "    low_rev = {}\n",
    "    for i in range(26):\n",
    "        low_rev[i] = chr(i+97)\n",
    "    caps_rev = {}\n",
    "    for i in range(26):\n",
    "        caps_rev[i] = chr(i+65)\n",
    "    \n",
    "    key_counter = 0\n",
    "    decrypt = ''\n",
    " \n",
    "    for i, let in enumerate(em):\n",
    "        if ord(let)>=97 and ord(let)<=122:\n",
    "            alphnum = ord(let)-97\n",
    "            alphnum = (alphnum+26-key[key_counter])%26\n",
    "            decrypt = decrypt+low_rev[alphnum]\n",
    "            key_counter = (key_counter+1)%len(key)\n",
    "        elif ord(let)>=65 and ord(let)<=90:\n",
    "            alphnum = ord(let)-65\n",
    "            alphnum = (alphnum+26-key[key_counter])%26\n",
    "            decrypt = decrypt+caps_rev[alphnum]\n",
    "            key_counter = (key_counter+1)%len(key)\n",
    "        else:\n",
    "            decrypt = decrypt+let\n",
    "        \n",
    "    return decrypt"
   ]
  },
  {
   "cell_type": "code",
   "execution_count": 53,
   "metadata": {},
   "outputs": [
    {
     "data": {
      "text/plain": [
       "'the quick'"
      ]
     },
     "execution_count": 53,
     "metadata": {},
     "output_type": "execute_result"
    }
   ],
   "source": [
    "decrypt(\"bjj rwkcs\")"
   ]
  },
  {
   "cell_type": "code",
   "execution_count": 32,
   "metadata": {},
   "outputs": [
    {
     "name": "stdout",
     "output_type": "stream",
     "text": [
      "A\n"
     ]
    }
   ],
   "source": [
    "decrypt=''\n",
    "decrypt = decrypt+'A'\n",
    "print(decrypt)"
   ]
  },
  {
   "cell_type": "code",
   "execution_count": 64,
   "metadata": {},
   "outputs": [
    {
     "name": "stdout",
     "output_type": "stream",
     "text": [
      "['0.1/face/apple', '1.1/cist/abox']\n"
     ]
    }
   ],
   "source": [
    "a = [\"0.1/face/apple\",\"1.1/cist/abox\"]\n",
    "print(sorted(a))"
   ]
  },
  {
   "cell_type": "code",
   "execution_count": null,
   "metadata": {
    "collapsed": true
   },
   "outputs": [],
   "source": []
  }
 ],
 "metadata": {
  "kernelspec": {
   "display_name": "Python 3",
   "language": "python",
   "name": "python3"
  },
  "language_info": {
   "codemirror_mode": {
    "name": "ipython",
    "version": 3
   },
   "file_extension": ".py",
   "mimetype": "text/x-python",
   "name": "python",
   "nbconvert_exporter": "python",
   "pygments_lexer": "ipython3",
   "version": "3.5.2"
  }
 },
 "nbformat": 4,
 "nbformat_minor": 2
}
