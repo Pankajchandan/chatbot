{
 "cells": [
  {
   "cell_type": "code",
   "execution_count": 2,
   "metadata": {
    "collapsed": true
   },
   "outputs": [],
   "source": [
    "import sys"
   ]
  },
  {
   "cell_type": "code",
   "execution_count": 1,
   "metadata": {
    "collapsed": true
   },
   "outputs": [],
   "source": [
    "def train_word2vec(num_features, min_word_count, num_workers, context, downsampling):\n",
    "    from preprocessing import train_word2vec\n",
    "    import pandas as pd\n",
    "    df = pd.read_csv(\"datafile.csv\", header=0, delimiter=\"\\t\", quoting=3)\n",
    "    model = train_word2vec(df, num_features, min_word_count, num_workers, context, downsampling)\n",
    "    return model"
   ]
  },
  {
   "cell_type": "code",
   "execution_count": 1,
   "metadata": {
    "collapsed": true
   },
   "outputs": [],
   "source": [
    "def train_model():\n",
    "    import model"
   ]
  },
  {
   "cell_type": "code",
   "execution_count": 9,
   "metadata": {
    "collapsed": true
   },
   "outputs": [],
   "source": [
    "if __name__ == \"__main__\":\n",
    "    x = 0\n",
    "    if sys.argv[1] == \"word2vec\":\n",
    "        train_word2vec(int(sys.argv[2]), int(sys.argv[3]), int(sys.argv[4]), int(sys.argv[5]), float(sys.argv[6]))\n",
    "    elif sys.argv[1] == \"model\":\n",
    "        train_model()\n",
    "    else:\n",
    "        x = 0"
   ]
  },
  {
   "cell_type": "code",
   "execution_count": 5,
   "metadata": {},
   "outputs": [
    {
     "name": "stderr",
     "output_type": "stream",
     "text": [
      "Using TensorFlow backend.\n"
     ]
    }
   ],
   "source": [
    "from gensim.models import Word2Vec"
   ]
  },
  {
   "cell_type": "code",
   "execution_count": 46,
   "metadata": {
    "collapsed": true
   },
   "outputs": [],
   "source": [
    "model = Word2Vec.load(\"trainedWord2vecmodel\")"
   ]
  },
  {
   "cell_type": "code",
   "execution_count": 56,
   "metadata": {},
   "outputs": [
    {
     "data": {
      "text/plain": [
       "[('sup', 0.9986194372177124),\n",
       " ('long', 0.9985455870628357),\n",
       " ('farewel', 0.9984501600265503),\n",
       " ('oo', 0.9983121156692505),\n",
       " ('vista', 0.9980318546295166),\n",
       " ('hello', 0.9979132413864136),\n",
       " ('cya', 0.9978313446044922),\n",
       " ('ciao', 0.9977053999900818),\n",
       " ('godspe', 0.9971763491630554),\n",
       " ('cheerio', 0.9963299632072449)]"
      ]
     },
     "execution_count": 56,
     "metadata": {},
     "output_type": "execute_result"
    }
   ],
   "source": [
    "model.most_similar(\"goodby\")"
   ]
  },
  {
   "cell_type": "code",
   "execution_count": 18,
   "metadata": {},
   "outputs": [
    {
     "data": {
      "text/plain": [
       "array([ 0.10352865, -0.03375062, -0.07300812, -0.0725102 , -0.16480148,\n",
       "        0.0609203 , -0.13402903,  0.01238472,  0.13551477,  0.0925821 ,\n",
       "       -0.00874227, -0.07696382, -0.03488909, -0.01636686,  0.01908851,\n",
       "       -0.12861575, -0.17742138, -0.07912702,  0.0165395 , -0.11825348,\n",
       "        0.11721165, -0.08674758, -0.06720411,  0.11820065, -0.07808179,\n",
       "       -0.10453387, -0.11605739,  0.02985877, -0.12835617,  0.14767356,\n",
       "        0.11675942,  0.08930794,  0.11644172,  0.13202527, -0.13238357,\n",
       "       -0.06931578, -0.14069806,  0.07348187,  0.01144183, -0.15840505,\n",
       "       -0.01544419, -0.01330164, -0.13021353,  0.05882315, -0.08116847,\n",
       "        0.00926498,  0.12671939, -0.14123356, -0.14196281, -0.05174851,\n",
       "        0.11647028,  0.13689737, -0.00960382,  0.03609949, -0.03091101,\n",
       "        0.04094248,  0.10167744, -0.02313778, -0.08806481,  0.11142791,\n",
       "        0.0140445 , -0.12105858, -0.09116374, -0.12743491,  0.02669978,\n",
       "        0.06331424, -0.00509483, -0.15256009, -0.14120531,  0.07441635,\n",
       "       -0.12734193, -0.12412356,  0.15343563, -0.08602479, -0.02104106,\n",
       "        0.15597454,  0.06913852,  0.10067407,  0.01164005, -0.0150269 ,\n",
       "       -0.07759834,  0.09691095, -0.16295537, -0.11885064,  0.13718453,\n",
       "       -0.06551464, -0.13391495,  0.16258265, -0.15870766, -0.15955645,\n",
       "       -0.03576266,  0.07119177,  0.07705488,  0.03346471, -0.12059769,\n",
       "       -0.08176018, -0.11409943, -0.0462771 , -0.02977307,  0.12784667], dtype=float32)"
      ]
     },
     "execution_count": 18,
     "metadata": {},
     "output_type": "execute_result"
    }
   ],
   "source": [
    "model[\"man\"]"
   ]
  },
  {
   "cell_type": "code",
   "execution_count": 37,
   "metadata": {},
   "outputs": [],
   "source": [
    "with open(\"intent.txt\") as file:\n",
    "    intent = file.read().strip().split(\"\\n\")\n",
    "intent_dict = {}\n",
    "for i, word in enumerate(intent):\n",
    "    intent_dict[word] = i"
   ]
  },
  {
   "cell_type": "code",
   "execution_count": 38,
   "metadata": {},
   "outputs": [
    {
     "data": {
      "text/plain": [
       "{'About the class': 7,\n",
       " 'Bye': 14,\n",
       " 'Class': 0,\n",
       " 'Exam details': 9,\n",
       " 'Greetings': 11,\n",
       " 'How are you': 12,\n",
       " 'Lab details': 10,\n",
       " 'Lecture room location': 6,\n",
       " 'Lecture timing': 5,\n",
       " 'Office hours': 3,\n",
       " 'Office location': 4,\n",
       " \"Professor's name\": 2,\n",
       " 'Project details': 1,\n",
       " 'Syllabus': 8,\n",
       " 'Thank you': 13}"
      ]
     },
     "execution_count": 38,
     "metadata": {},
     "output_type": "execute_result"
    }
   ],
   "source": [
    "intent_dict"
   ]
  },
  {
   "cell_type": "code",
   "execution_count": 39,
   "metadata": {},
   "outputs": [
    {
     "data": {
      "text/plain": [
       "2"
      ]
     },
     "execution_count": 39,
     "metadata": {},
     "output_type": "execute_result"
    }
   ],
   "source": [
    "intent_dict[\"Professor's name\"]"
   ]
  },
  {
   "cell_type": "code",
   "execution_count": null,
   "metadata": {
    "collapsed": true
   },
   "outputs": [],
   "source": []
  }
 ],
 "metadata": {
  "kernelspec": {
   "display_name": "Python 3",
   "language": "python",
   "name": "python3"
  },
  "language_info": {
   "codemirror_mode": {
    "name": "ipython",
    "version": 3
   },
   "file_extension": ".py",
   "mimetype": "text/x-python",
   "name": "python",
   "nbconvert_exporter": "python",
   "pygments_lexer": "ipython3",
   "version": "3.5.2"
  }
 },
 "nbformat": 4,
 "nbformat_minor": 2
}
