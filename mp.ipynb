{
 "cells": [
  {
   "cell_type": "code",
   "execution_count": 1,
   "metadata": {
    "scrolled": true
   },
   "outputs": [
    {
     "name": "stderr",
     "output_type": "stream",
     "text": [
      "Using TensorFlow backend.\n"
     ]
    },
    {
     "name": "stdout",
     "output_type": "stream",
     "text": [
      "initialized intent model with structure\n",
      "\n",
      "cnn/X\n",
      "cnn/conv/stack/0/W\n",
      "cnn/conv/stack/0/W/read\n",
      "cnn/conv/stack/0/conv\n",
      "cnn/conv/stack/0/b\n",
      "cnn/conv/stack/0/b/read\n",
      "cnn/conv/stack/0/H\n",
      "cnn/conv/stack/0/relu\n",
      "cnn/conv/stack/0/pool\n",
      "cnn/conv/stack/1/W\n",
      "cnn/conv/stack/1/W/read\n",
      "cnn/conv/stack/1/conv\n",
      "cnn/conv/stack/1/b\n",
      "cnn/conv/stack/1/b/read\n",
      "cnn/conv/stack/1/H\n",
      "cnn/conv/stack/1/relu\n",
      "cnn/conv/stack/1/pool\n",
      "cnn/conv/stack/2/W\n",
      "cnn/conv/stack/2/W/read\n",
      "cnn/conv/stack/2/conv\n",
      "cnn/conv/stack/2/b\n",
      "cnn/conv/stack/2/b/read\n",
      "cnn/conv/stack/2/H\n",
      "cnn/conv/stack/2/relu\n",
      "cnn/conv/stack/2/pool\n",
      "cnn/preFc/concat/axis\n",
      "cnn/preFc/concat\n",
      "cnn/preFc/Reshape/shape\n",
      "cnn/preFc/Reshape\n",
      "cnn/dropout/dropout/keep_prob\n",
      "cnn/dropout/dropout/Shape\n",
      "cnn/dropout/dropout/random_uniform/min\n",
      "cnn/dropout/dropout/random_uniform/max\n",
      "cnn/dropout/dropout/random_uniform/RandomUniform\n",
      "cnn/dropout/dropout/random_uniform/sub\n",
      "cnn/dropout/dropout/random_uniform/mul\n",
      "cnn/dropout/dropout/random_uniform\n",
      "cnn/dropout/dropout/add\n",
      "cnn/dropout/dropout/Floor\n",
      "cnn/dropout/dropout/div\n",
      "cnn/dropout/dropout/mul\n",
      "cnn/W\n",
      "cnn/W/read\n",
      "cnn/output/b\n",
      "cnn/output/b/read\n",
      "cnn/output/scores/MatMul\n",
      "cnn/output/scores\n",
      "cnn/output/predictions\n"
     ]
    }
   ],
   "source": [
    "import tensorflow as tf\n",
    "import pandas as pd\n",
    "from gensim.models import Word2Vec, KeyedVectors\n",
    "from preprocessing import process_predict_data\n",
    "import random\n",
    "\n",
    "with open(\"save/model.tf\", mode='rb') as f:\n",
    "        graph_def = tf.GraphDef()\n",
    "        try:\n",
    "            graph_def.ParseFromString(f.read())\n",
    "        except:\n",
    "            print('try adding PROTOCOL_BUFFERS_PYTHON_IMPLEMENTATION=python ' +\n",
    "                  'to environment.  e.g.:\\n' +\n",
    "                  'PROTOCOL_BUFFERS_PYTHON_IMPLEMENTATION=python ipython\\n' +\n",
    "                  'See here for info: ' +\n",
    "                  'https://github.com/tensorflow/tensorflow/issues/582')\n",
    "\n",
    "with open('intent.txt') as f:\n",
    "    intent = [(idx, l.strip()) for idx, l in enumerate(f.readlines())]\n",
    "\n",
    "\n",
    "g = tf.Graph()\n",
    "with tf.Session(graph=g) as sess, g.device('/cpu:0'):\n",
    "    tf.import_graph_def(graph_def, name='cnn')\n",
    "    names = [op.name for op in g.get_operations()]\n",
    "print(\"initialized intent model with structure\")\n",
    "print()\n",
    "for name in names:\n",
    "    print(name)\n",
    "    \n",
    "# load word2vec model\n",
    "model = KeyedVectors.load_word2vec_format(\"GoogleNews-vectors-negative300.bin\",binary = 'True')\n",
    "#model = Word2Vec.load(\"trainedWord2vecmodel\")   "
   ]
  },
  {
   "cell_type": "code",
   "execution_count": 2,
   "metadata": {
    "collapsed": true
   },
   "outputs": [],
   "source": [
    "import random\n",
    "def get_intent(text):\n",
    "    global g\n",
    "    global intent\n",
    "    global model\n",
    "    x = g.get_tensor_by_name(names[0] + ':0')\n",
    "    softmax = g.get_tensor_by_name(names[-1] + ':0')\n",
    "    seq_len = x.get_shape().as_list()[1]\n",
    "    df = pd.DataFrame(index=[0], columns=[\"text\"])\n",
    "    df[\"text\"][0] = text\n",
    "    data_x = process_predict_data(df,model,seq_len)\n",
    "    \n",
    "    with tf.Session(graph=g) as sess:\n",
    "        res = softmax.eval(feed_dict={x: data_x,'cnn/dropout/dropout/keep_prob:0': 1})#dropout keep =100%\n",
    "    print (res[0])\n",
    "    return intent[res[0].argmax()][1], max(res[0])"
   ]
  },
  {
   "cell_type": "code",
   "execution_count": 3,
   "metadata": {
    "collapsed": true
   },
   "outputs": [],
   "source": [
    "def get_response(text, thresh):\n",
    "    intent, prob = get_intent(text)\n",
    "    print (intent, prob)\n",
    "    #if prob >= thresh:\n",
    "        #res_file = \"response/\"+intent+\".txt\"\n",
    "        #file = open(res_file)\n",
    "        #response_list = file.read()\n",
    "        #response_list = response_list.split(\"\\n\")\n",
    "        #print(response_list[random.randint(0,len(response_list)-2)])"
   ]
  },
  {
   "cell_type": "code",
   "execution_count": 6,
   "metadata": {},
   "outputs": [
    {
     "name": "stdout",
     "output_type": "stream",
     "text": [
      "[  1.32176003e-09   2.17942175e-09   1.00000000e+00   4.91788965e-09\n",
      "   1.46920087e-10   4.40407022e-14   1.45501877e-08   1.61797313e-08\n",
      "   3.34470207e-09   1.73359157e-12   1.70097037e-18   2.64165487e-14\n",
      "   4.82446913e-21   7.99403710e-10   7.55868655e-15]\n",
      "Professor's name 1.0\n"
     ]
    }
   ],
   "source": [
    "get_response(\"professor's name\",0.5)"
   ]
  },
  {
   "cell_type": "code",
   "execution_count": null,
   "metadata": {
    "collapsed": true
   },
   "outputs": [],
   "source": []
  }
 ],
 "metadata": {
  "kernelspec": {
   "display_name": "Python 3",
   "language": "python",
   "name": "python3"
  },
  "language_info": {
   "codemirror_mode": {
    "name": "ipython",
    "version": 3
   },
   "file_extension": ".py",
   "mimetype": "text/x-python",
   "name": "python",
   "nbconvert_exporter": "python",
   "pygments_lexer": "ipython3",
   "version": "3.5.2"
  }
 },
 "nbformat": 4,
 "nbformat_minor": 2
}
